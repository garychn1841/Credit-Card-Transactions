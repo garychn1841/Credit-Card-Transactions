{
  "cells": [
    {
      "cell_type": "code",
      "execution_count": null,
      "metadata": {
        "id": "mcgjEzNAFPxs"
      },
      "outputs": [],
      "source": [
        "from xgboost import XGBClassifier\n",
        "from lightgbm import LGBMClassifier\n",
        "from catboost import CatBoostClassifier\n",
        "from sklearn.metrics import accuracy_score,confusion_matrix, classification_report\n",
        "from sklearn.model_selection import GridSearchCV,train_test_split\n",
        "import pandas as pd\n",
        "import seaborn as sns\n",
        "import matplotlib.pyplot as plt"
      ]
    },
    {
      "cell_type": "markdown",
      "metadata": {},
      "source": [
        "#### 讀取資料"
      ]
    },
    {
      "cell_type": "code",
      "execution_count": null,
      "metadata": {
        "id": "hkDd0TYrOmEe"
      },
      "outputs": [],
      "source": [
        "#讀取資料\n",
        "df_row = pd.read_csv(\"archive/credit_card_transactions-ibm_v2.csv\")"
      ]
    },
    {
      "cell_type": "markdown",
      "metadata": {},
      "source": [
        "#### 資料前處理"
      ]
    },
    {
      "cell_type": "code",
      "execution_count": null,
      "metadata": {},
      "outputs": [],
      "source": [
        "df=df_row.copy()\n",
        "\n",
        "#資料型態及文字處理\n",
        "df[\"card_id\"] = df[\"User\"].astype(str) + \"_\" + df[\"Card\"].astype(str)\n",
        "df[\"Amount\"]=df[\"Amount\"].str.replace(\"$\",\"\").astype(float)\n",
        "df[\"Hour\"] = df[\"Time\"].str [0:2].astype(float)\n",
        "df[\"Minute\"] = df[\"Time\"].str [3:5].astype(float)\n",
        "\n",
        "#缺失值填補\n",
        "df[\"Errors?\"]= df[\"Errors?\"].fillna(\"No error\")\n",
        "df['Merchant State'].fillna(0,inplace=True)\n",
        "\n",
        "#預測標籤轉換\n",
        "df[\"Is Fraud?\"] = df[\"Is Fraud?\"].apply(lambda x: 1 if x == 'Yes' else 0)\n",
        "\n",
        "#類別變數轉換成頻率等級\n",
        "df['Merchant City freq'] = df['Merchant City'].map(df['Merchant City'].value_counts()/len(df))\n",
        "df['Use Chip freq'] = df['Use Chip'].map(df['Use Chip'].value_counts()/len(df))\n",
        "df['Errors? freq'] = df['Errors?'].map(df['Errors?'].value_counts()/len(df))\n",
        "df['card_id freq'] = df['card_id'].map(df['card_id'].value_counts()/len(df))\n",
        "df['Merchant State freq'] = df['Merchant State'].map(df['Merchant State'].value_counts()/len(df))\n",
        "df['MCC freq'] = df['MCC'].map(df['MCC'].value_counts()/len(df))"
      ]
    },
    {
      "cell_type": "code",
      "execution_count": null,
      "metadata": {},
      "outputs": [],
      "source": [
        "df = df.drop(columns=[\"Merchant City\",\"Use Chip\",\"Errors?\",'card_id',\n",
        "                      \"Time\",\"User\",\"Card\",'Year','Merchant State',\"Zip\",'MCC'],axis=1)"
      ]
    },
    {
      "cell_type": "code",
      "execution_count": null,
      "metadata": {},
      "outputs": [],
      "source": [
        "#數據採樣及建構資料集\n",
        "x_nom = df[df[\"Is Fraud?\"] == 0].sample(1000000,random_state=42)\n",
        "x_nov = df[df[\"Is Fraud?\"] == 1]\n",
        "df = pd.concat([x_nom,x_nov])"
      ]
    },
    {
      "cell_type": "code",
      "execution_count": null,
      "metadata": {
        "colab": {
          "base_uri": "https://localhost:8080/",
          "height": 310
        },
        "id": "yZdwa6wzsSBP",
        "outputId": "eb964a97-3fb4-4828-f57d-f4463ca91a8e"
      },
      "outputs": [],
      "source": [
        "df.head()\n",
        "df['Is Fraud?'].value_counts()"
      ]
    },
    {
      "cell_type": "code",
      "execution_count": null,
      "metadata": {},
      "outputs": [],
      "source": [
        "df.info()"
      ]
    },
    {
      "cell_type": "markdown",
      "metadata": {},
      "source": [
        "#### 模型建立"
      ]
    },
    {
      "cell_type": "code",
      "execution_count": null,
      "metadata": {
        "id": "39nIZbFNfFMq"
      },
      "outputs": [],
      "source": [
        "#XGBoost 模型建立\n",
        "def XGB(X_train, y_train, X_test, y_test):\n",
        "    #建立參數網格\n",
        "    param_grid = {\n",
        "        'max_depth': [2, 3, 4, 5],                    #最大深度\n",
        "        'learning_rate': [0.01, 0.04, 0.05, 0,1],     #學習率\n",
        "        'n_estimators': [100, 200, 300],              #樹的數量      \n",
        "        'subsample': [0.8, 0.9, 1.0],                 #採樣比例\n",
        "        'colsample_bytree': [0.8, 0.9, 1.0],          #特徵採樣比例\n",
        "    }\n",
        "    \n",
        "    #建立分類器\n",
        "    xgb_model = XGBClassifier(use_label_encoder=False, eval_metric='logloss')\n",
        "    \n",
        "    #網格訓練\n",
        "    grid_search = GridSearchCV(estimator=xgb_model, param_grid=param_grid, cv=5, scoring='accuracy')\n",
        "    grid_search.fit(X_train, y_train)\n",
        "    return grid_search.best_estimator_\n",
        "\n",
        "#LightGBM 模型建立(參數請見XGBoost 模型)\n",
        "def Lightgbm(X_train, y_train, X_test, y_test):\n",
        "    param_grid = {\n",
        "        'max_depth': [2, 3, 4, 5],\n",
        "        'learning_rate': [0.01, 0.04, 0.05, 0.1],\n",
        "        'n_estimators': [100, 200, 300],\n",
        "        'subsample': [0.8, 0.9, 1.0],\n",
        "        'colsample_bytree': [0.8, 0.9, 1.0],\n",
        "        'num_leaves': [7, 15, 31],                   #樹的葉子數量\n",
        "        'force_col_wise': [True],                    #是否強制列存儲,用於優化速度的參數                                            \n",
        "    }\n",
        "    lgb_model = LGBMClassifier(verbose=-1)\n",
        "    grid_search = GridSearchCV(estimator=lgb_model, param_grid=param_grid, cv=3, scoring='accuracy', verbose=0)\n",
        "    grid_search.fit(X_train, y_train)\n",
        "    return grid_search.best_estimator_\n",
        "\n",
        "#Catboost 模型建立(參數請見XGBoost 模型)\n",
        "def Catboost(X_train, y_train, X_test, y_test):\n",
        "    param_grid = {\n",
        "        'max_depth': [2, 3, 4, 5],\n",
        "        'learning_rate': [0.01, 0.04, 0.05, 0,1],\n",
        "        'iterations': [100, 200, 300],\n",
        "        'subsample': [0.8, 0.9, 1.0],\n",
        "    }\n",
        "    cat_model = CatBoostClassifier(loss_function='Logloss', verbose=False)\n",
        "    grid_search = GridSearchCV(estimator=cat_model, param_grid=param_grid, cv=5, scoring='accuracy')\n",
        "    grid_search.fit(X_train, y_train)\n",
        "    return grid_search.best_estimator_\n"
      ]
    },
    {
      "cell_type": "markdown",
      "metadata": {},
      "source": [
        "#### 切分訓練及測試資料集 (80/20)"
      ]
    },
    {
      "cell_type": "code",
      "execution_count": null,
      "metadata": {
        "id": "tRkX38AVi39X"
      },
      "outputs": [],
      "source": [
        "#切分訓練及測試資料集\n",
        "def split_data(df_filtered_columns):\n",
        "    X = df_filtered_columns.drop(['Is Fraud?'], axis=1)\n",
        "    y = df_filtered_columns['Is Fraud?']\n",
        "    X_train, X_test, y_train, y_test = train_test_split(X, y, test_size=0.2, random_state=42)\n",
        "\n",
        "    return X_train, X_test, y_train, y_test\n",
        "\n",
        "\n",
        "X_train, X_test, y_train, y_test = split_data(df)"
      ]
    },
    {
      "cell_type": "markdown",
      "metadata": {},
      "source": [
        "#### 模型訓練"
      ]
    },
    {
      "cell_type": "code",
      "execution_count": null,
      "metadata": {},
      "outputs": [],
      "source": [
        "#模型訓練\n",
        "XGB_model = XGB(X_train, y_train, X_test, y_test)\n",
        "Lightgbm_model = Lightgbm(X_train, y_train, X_test, y_test)\n",
        "Catboost_model = Catboost(X_train, y_train, X_test, y_test)"
      ]
    },
    {
      "cell_type": "markdown",
      "metadata": {},
      "source": [
        "#### 模型評估"
      ]
    },
    {
      "cell_type": "code",
      "execution_count": null,
      "metadata": {
        "colab": {
          "base_uri": "https://localhost:8080/",
          "height": 1000
        },
        "id": "Pi_SGJaRjMgk",
        "outputId": "395101b1-083b-4464-8ae6-a0b11607bc98"
      },
      "outputs": [],
      "source": [
        "# 模型評估\n",
        "\n",
        "#繪製混淆矩陣\n",
        "def plot_confusion_matrix(y_true, y_pred, title='Confusion Matrix'):\n",
        "    # 混淆矩陣\n",
        "    cm = confusion_matrix(y_true, y_pred)\n",
        "    f, ax = plt.subplots(figsize=(8, 5))\n",
        "    sns.heatmap(cm, annot=True, fmt=\"d\", linewidths=.5, ax=ax, cmap='Blues')\n",
        "    plt.title(title)\n",
        "    plt.ylabel('Actual label')\n",
        "    plt.xlabel('Predicted label')\n",
        "    plt.show()\n",
        "    \n",
        "# 輸出模型分數及混淆矩陣\n",
        "def evaluate_model(model, X_train, y_train, X_test, y_test, model_name=\"Model\"):\n",
        "    y_pred = model.predict(X_test)\n",
        "    accuracy = accuracy_score(y_test, y_pred)\n",
        "\n",
        "    print(f\"{model_name} Accuracy: {accuracy}\")\n",
        "    print(f\"{model_name} Classification Report:\")\n",
        "    print(classification_report(y_test, y_pred))\n",
        "\n",
        "    plot_confusion_matrix(y_test, y_pred, title=f'{model_name} Confusion Matrix')\n",
        "\n",
        "    return model\n",
        "\n",
        "XGB_model_eval = evaluate_model(XGB_model, X_train, y_train, X_test, y_test, model_name=\"XGBoost\")\n",
        "LightGBM_model_eval = evaluate_model(Lightgbm_model, X_train, y_train, X_test, y_test, model_name=\"LightGBM\")\n",
        "CatBoost_model_eval = evaluate_model(Catboost_model, X_train, y_train, X_test, y_test, model_name=\"CatBoost\")\n"
      ]
    },
    {
      "cell_type": "markdown",
      "metadata": {},
      "source": []
    }
  ],
  "metadata": {
    "colab": {
      "provenance": []
    },
    "kernelspec": {
      "display_name": "Python 3",
      "name": "python3"
    },
    "language_info": {
      "codemirror_mode": {
        "name": "ipython",
        "version": 3
      },
      "file_extension": ".py",
      "mimetype": "text/x-python",
      "name": "python",
      "nbconvert_exporter": "python",
      "pygments_lexer": "ipython3",
      "version": "3.9.13"
    }
  },
  "nbformat": 4,
  "nbformat_minor": 0
}
